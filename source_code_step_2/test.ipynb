{
 "cells": [
  {
   "cell_type": "code",
   "execution_count": 2,
   "metadata": {},
   "outputs": [
    {
     "data": {
      "text/html": [
       "<div><style>\n",
       ".dataframe > thead > tr,\n",
       ".dataframe > tbody > tr {\n",
       "  text-align: right;\n",
       "  white-space: pre-wrap;\n",
       "}\n",
       "</style>\n",
       "<small>shape: (5, 3)</small><table border=\"1\" class=\"dataframe\"><thead><tr><th>hospital_id</th><th>hospital_name</th><th>hospital_state</th></tr><tr><td>i64</td><td>str</td><td>str</td></tr></thead><tbody><tr><td>0</td><td>&quot;Wallace-Hamilton&quot;</td><td>&quot;CO&quot;</td></tr><tr><td>1</td><td>&quot;Burke, Griffin and Cooper&quot;</td><td>&quot;NC&quot;</td></tr><tr><td>2</td><td>&quot;Walton LLC&quot;</td><td>&quot;FL&quot;</td></tr><tr><td>3</td><td>&quot;Garcia Ltd&quot;</td><td>&quot;NC&quot;</td></tr><tr><td>4</td><td>&quot;Jones, Brown and Murray&quot;</td><td>&quot;NC&quot;</td></tr></tbody></table></div>"
      ],
      "text/plain": [
       "shape: (5, 3)\n",
       "┌─────────────┬───────────────────────────┬────────────────┐\n",
       "│ hospital_id ┆ hospital_name             ┆ hospital_state │\n",
       "│ ---         ┆ ---                       ┆ ---            │\n",
       "│ i64         ┆ str                       ┆ str            │\n",
       "╞═════════════╪═══════════════════════════╪════════════════╡\n",
       "│ 0           ┆ Wallace-Hamilton          ┆ CO             │\n",
       "│ 1           ┆ Burke, Griffin and Cooper ┆ NC             │\n",
       "│ 2           ┆ Walton LLC                ┆ FL             │\n",
       "│ 3           ┆ Garcia Ltd                ┆ NC             │\n",
       "│ 4           ┆ Jones, Brown and Murray   ┆ NC             │\n",
       "└─────────────┴───────────────────────────┴────────────────┘"
      ]
     },
     "execution_count": 2,
     "metadata": {},
     "output_type": "execute_result"
    }
   ],
   "source": [
    "import polars as pl\n",
    "\n",
    "HOSPITAL_DATA_PATH = \"./data/hospitals.csv\"\n",
    "data_hospitals = pl.read_csv(HOSPITAL_DATA_PATH)\n",
    "\n",
    "data_hospitals.shape\n",
    "\n",
    "\n",
    "data_hospitals.head()"
   ]
  },
  {
   "cell_type": "code",
   "execution_count": 3,
   "metadata": {},
   "outputs": [
    {
     "data": {
      "text/html": [
       "<div><style>\n",
       ".dataframe > thead > tr,\n",
       ".dataframe > tbody > tr {\n",
       "  text-align: right;\n",
       "  white-space: pre-wrap;\n",
       "}\n",
       "</style>\n",
       "<small>shape: (5, 6)</small><table border=\"1\" class=\"dataframe\"><thead><tr><th>physician_name</th><th>physician_id</th><th>physician_dob</th><th>physician_grad_year</th><th>medical_school</th><th>salary</th></tr><tr><td>str</td><td>i64</td><td>str</td><td>str</td><td>str</td><td>f64</td></tr></thead><tbody><tr><td>&quot;Joseph Johnson&quot;</td><td>0</td><td>&quot;1970-02-22&quot;</td><td>&quot;2000-02-22&quot;</td><td>&quot;Johns Hopkins University Schoo…</td><td>309534.155076</td></tr><tr><td>&quot;Jason Williams&quot;</td><td>1</td><td>&quot;1982-12-22&quot;</td><td>&quot;2012-12-22&quot;</td><td>&quot;Mayo Clinic Alix School of Med…</td><td>281114.503559</td></tr><tr><td>&quot;Jesse Gordon&quot;</td><td>2</td><td>&quot;1959-06-03&quot;</td><td>&quot;1989-06-03&quot;</td><td>&quot;David Geffen School of Medicin…</td><td>305845.584636</td></tr><tr><td>&quot;Heather Smith&quot;</td><td>3</td><td>&quot;1965-06-15&quot;</td><td>&quot;1995-06-15&quot;</td><td>&quot;NYU Grossman Medical School&quot;</td><td>295239.766689</td></tr><tr><td>&quot;Kayla Hunter DDS&quot;</td><td>4</td><td>&quot;1978-10-19&quot;</td><td>&quot;2008-10-19&quot;</td><td>&quot;David Geffen School of Medicin…</td><td>298751.355201</td></tr></tbody></table></div>"
      ],
      "text/plain": [
       "shape: (5, 6)\n",
       "┌─────────────────┬──────────────┬───────────────┬────────────────┬────────────────┬───────────────┐\n",
       "│ physician_name  ┆ physician_id ┆ physician_dob ┆ physician_grad ┆ medical_school ┆ salary        │\n",
       "│ ---             ┆ ---          ┆ ---           ┆ _year          ┆ ---            ┆ ---           │\n",
       "│ str             ┆ i64          ┆ str           ┆ ---            ┆ str            ┆ f64           │\n",
       "│                 ┆              ┆               ┆ str            ┆                ┆               │\n",
       "╞═════════════════╪══════════════╪═══════════════╪════════════════╪════════════════╪═══════════════╡\n",
       "│ Joseph Johnson  ┆ 0            ┆ 1970-02-22    ┆ 2000-02-22     ┆ Johns Hopkins  ┆ 309534.155076 │\n",
       "│                 ┆              ┆               ┆                ┆ University     ┆               │\n",
       "│                 ┆              ┆               ┆                ┆ Schoo…         ┆               │\n",
       "│ Jason Williams  ┆ 1            ┆ 1982-12-22    ┆ 2012-12-22     ┆ Mayo Clinic    ┆ 281114.503559 │\n",
       "│                 ┆              ┆               ┆                ┆ Alix School of ┆               │\n",
       "│                 ┆              ┆               ┆                ┆ Med…           ┆               │\n",
       "│ Jesse Gordon    ┆ 2            ┆ 1959-06-03    ┆ 1989-06-03     ┆ David Geffen   ┆ 305845.584636 │\n",
       "│                 ┆              ┆               ┆                ┆ School of      ┆               │\n",
       "│                 ┆              ┆               ┆                ┆ Medicin…       ┆               │\n",
       "│ Heather Smith   ┆ 3            ┆ 1965-06-15    ┆ 1995-06-15     ┆ NYU Grossman   ┆ 295239.766689 │\n",
       "│                 ┆              ┆               ┆                ┆ Medical School ┆               │\n",
       "│ Kayla Hunter    ┆ 4            ┆ 1978-10-19    ┆ 2008-10-19     ┆ David Geffen   ┆ 298751.355201 │\n",
       "│ DDS             ┆              ┆               ┆                ┆ School of      ┆               │\n",
       "│                 ┆              ┆               ┆                ┆ Medicin…       ┆               │\n",
       "└─────────────────┴──────────────┴───────────────┴────────────────┴────────────────┴───────────────┘"
      ]
     },
     "execution_count": 3,
     "metadata": {},
     "output_type": "execute_result"
    }
   ],
   "source": [
    "PHYSICIAN_DATA_PATH = \"data/physicians.csv\"\n",
    "data_physician = pl.read_csv(PHYSICIAN_DATA_PATH)\n",
    "\n",
    "data_physician.shape\n",
    "\n",
    "\n",
    "data_physician.head()"
   ]
  },
  {
   "cell_type": "code",
   "execution_count": 4,
   "metadata": {},
   "outputs": [
    {
     "data": {
      "text/html": [
       "<div><style>\n",
       ".dataframe > thead > tr,\n",
       ".dataframe > tbody > tr {\n",
       "  text-align: right;\n",
       "  white-space: pre-wrap;\n",
       "}\n",
       "</style>\n",
       "<small>shape: (5, 6)</small><table border=\"1\" class=\"dataframe\"><thead><tr><th>review_id</th><th>visit_id</th><th>review</th><th>physician_name</th><th>hospital_name</th><th>patient_name</th></tr><tr><td>i64</td><td>i64</td><td>str</td><td>str</td><td>str</td><td>str</td></tr></thead><tbody><tr><td>0</td><td>6997</td><td>&quot;The medical staff at the hospi…</td><td>&quot;Laura Brown&quot;</td><td>&quot;Wallace-Hamilton&quot;</td><td>&quot;Christy Johnson&quot;</td></tr><tr><td>9</td><td>8138</td><td>&quot;The hospital&#x27;s commitment to p…</td><td>&quot;Steven Watson&quot;</td><td>&quot;Wallace-Hamilton&quot;</td><td>&quot;Anna Frazier&quot;</td></tr><tr><td>11</td><td>680</td><td>&quot;The hospital&#x27;s commitment to p…</td><td>&quot;Chase Mcpherson Jr.&quot;</td><td>&quot;Wallace-Hamilton&quot;</td><td>&quot;Abigail Mitchell&quot;</td></tr><tr><td>892</td><td>9846</td><td>&quot;I had a positive experience ov…</td><td>&quot;Jason Martinez&quot;</td><td>&quot;Wallace-Hamilton&quot;</td><td>&quot;Kimberly Rivas&quot;</td></tr><tr><td>822</td><td>7397</td><td>&quot;The medical team at the hospit…</td><td>&quot;Chelsey Davis&quot;</td><td>&quot;Wallace-Hamilton&quot;</td><td>&quot;Catherine Yang&quot;</td></tr></tbody></table></div>"
      ],
      "text/plain": [
       "shape: (5, 6)\n",
       "┌───────────┬──────────┬──────────────────┬──────────────────┬──────────────────┬──────────────────┐\n",
       "│ review_id ┆ visit_id ┆ review           ┆ physician_name   ┆ hospital_name    ┆ patient_name     │\n",
       "│ ---       ┆ ---      ┆ ---              ┆ ---              ┆ ---              ┆ ---              │\n",
       "│ i64       ┆ i64      ┆ str              ┆ str              ┆ str              ┆ str              │\n",
       "╞═══════════╪══════════╪══════════════════╪══════════════════╪══════════════════╪══════════════════╡\n",
       "│ 0         ┆ 6997     ┆ The medical      ┆ Laura Brown      ┆ Wallace-Hamilton ┆ Christy Johnson  │\n",
       "│           ┆          ┆ staff at the     ┆                  ┆                  ┆                  │\n",
       "│           ┆          ┆ hospi…           ┆                  ┆                  ┆                  │\n",
       "│ 9         ┆ 8138     ┆ The hospital's   ┆ Steven Watson    ┆ Wallace-Hamilton ┆ Anna Frazier     │\n",
       "│           ┆          ┆ commitment to p… ┆                  ┆                  ┆                  │\n",
       "│ 11        ┆ 680      ┆ The hospital's   ┆ Chase Mcpherson  ┆ Wallace-Hamilton ┆ Abigail Mitchell │\n",
       "│           ┆          ┆ commitment to p… ┆ Jr.              ┆                  ┆                  │\n",
       "│ 892       ┆ 9846     ┆ I had a positive ┆ Jason Martinez   ┆ Wallace-Hamilton ┆ Kimberly Rivas   │\n",
       "│           ┆          ┆ experience ov…   ┆                  ┆                  ┆                  │\n",
       "│ 822       ┆ 7397     ┆ The medical team ┆ Chelsey Davis    ┆ Wallace-Hamilton ┆ Catherine Yang   │\n",
       "│           ┆          ┆ at the hospit…   ┆                  ┆                  ┆                  │\n",
       "└───────────┴──────────┴──────────────────┴──────────────────┴──────────────────┴──────────────────┘"
      ]
     },
     "execution_count": 4,
     "metadata": {},
     "output_type": "execute_result"
    }
   ],
   "source": [
    "REVIEWS_DATA_PATH = \"data/reviews.csv\"\n",
    "data_reviews = pl.read_csv(REVIEWS_DATA_PATH)\n",
    "\n",
    "data_reviews.shape\n",
    "\n",
    "\n",
    "data_reviews.head()"
   ]
  },
  {
   "cell_type": "code",
   "execution_count": null,
   "metadata": {},
   "outputs": [],
   "source": []
  }
 ],
 "metadata": {
  "kernelspec": {
   "display_name": "venv",
   "language": "python",
   "name": "python3"
  },
  "language_info": {
   "codemirror_mode": {
    "name": "ipython",
    "version": 3
   },
   "file_extension": ".py",
   "mimetype": "text/x-python",
   "name": "python",
   "nbconvert_exporter": "python",
   "pygments_lexer": "ipython3",
   "version": "3.11.1"
  }
 },
 "nbformat": 4,
 "nbformat_minor": 2
}
