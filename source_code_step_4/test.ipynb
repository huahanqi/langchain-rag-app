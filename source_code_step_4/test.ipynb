{
 "cells": [
  {
   "cell_type": "code",
   "execution_count": 1,
   "metadata": {},
   "outputs": [
    {
     "data": {
      "text/plain": [
       "'Patients have mentioned both positive and negative aspects of hospital efficiency in their reviews.\\n\\nIn one review, a patient named Kevin Cox mentioned that the hospital staff at Wallace-Hamilton was efficient, and the facilities were clean. However, he felt a lack of personalized attention and communication, which left him feeling a bit neglected.\\n\\nOn the other hand, another patient named Jesse Marquez praised the excellent medical care provided at Wallace-Hamilton. He specifically mentioned that the nursing staff was attentive. However, he also pointed out that the administrative processes at the hospital were cumbersome and could be streamlined for efficiency.\\n\\nOverall, while some patients have had positive experiences with hospital efficiency, others have highlighted areas where improvements could be made to streamline administrative processes and enhance communication for a more efficient experience.'"
      ]
     },
     "execution_count": 1,
     "metadata": {},
     "output_type": "execute_result"
    }
   ],
   "source": [
    "import dotenv\n",
    "dotenv.load_dotenv()\n",
    "\n",
    "\n",
    "from chatbot_api.src.chains.hospital_review_chain import (\n",
    "    reviews_vector_chain\n",
    ")\n",
    "\n",
    "query = \"\"\"What have patients said about hospital efficiency?\n",
    "        Mention details from specific reviews.\"\"\"\n",
    "\n",
    "response = reviews_vector_chain.invoke(query)\n",
    "\n",
    "response.get(\"result\")"
   ]
  },
  {
   "cell_type": "code",
   "execution_count": null,
   "metadata": {},
   "outputs": [],
   "source": []
  }
 ],
 "metadata": {
  "kernelspec": {
   "display_name": "venv",
   "language": "python",
   "name": "python3"
  },
  "language_info": {
   "codemirror_mode": {
    "name": "ipython",
    "version": 3
   },
   "file_extension": ".py",
   "mimetype": "text/x-python",
   "name": "python",
   "nbconvert_exporter": "python",
   "pygments_lexer": "ipython3",
   "version": "3.11.1"
  }
 },
 "nbformat": 4,
 "nbformat_minor": 2
}
