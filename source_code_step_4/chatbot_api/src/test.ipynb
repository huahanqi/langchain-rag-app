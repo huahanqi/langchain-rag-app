{
 "cells": [
  {
   "cell_type": "code",
   "execution_count": 1,
   "metadata": {},
   "outputs": [
    {
     "name": "stdout",
     "output_type": "stream",
     "text": [
      "\n",
      "\n",
      "\u001b[1m> Entering new AgentExecutor chain...\u001b[0m\n",
      "\u001b[32;1m\u001b[1;3m\n",
      "Invoking: `Waits` with `Wallace-Hamilton`\n",
      "\n",
      "\n",
      "\u001b[0m\u001b[38;5;200m\u001b[1;3m9 hours 29 minutes\u001b[0m\u001b[32;1m\u001b[1;3mThe current wait time at Wallace-Hamilton is 9 hours and 29 minutes.\u001b[0m\n",
      "\n",
      "\u001b[1m> Finished chain.\u001b[0m\n",
      "\n",
      "\n",
      "\u001b[1m> Entering new AgentExecutor chain...\u001b[0m\n",
      "\u001b[32;1m\u001b[1;3m\n",
      "Invoking: `Availability` with `shortest wait time`\n",
      "\n",
      "\n",
      "\u001b[0m\u001b[36;1m\u001b[1;3m{'wallace-hamilton': 4}\u001b[0m\u001b[32;1m\u001b[1;3mThe hospital with the shortest wait time is Wallace Hamilton, with a wait time of 4 minutes.\u001b[0m\n",
      "\n",
      "\u001b[1m> Finished chain.\u001b[0m\n"
     ]
    },
    {
     "data": {
      "text/plain": [
       "'The hospital with the shortest wait time is Wallace Hamilton, with a wait time of 4 minutes.'"
      ]
     },
     "execution_count": 1,
     "metadata": {},
     "output_type": "execute_result"
    }
   ],
   "source": [
    "import dotenv\n",
    "dotenv.load_dotenv()\n",
    "\n",
    "\n",
    "from agents.hospital_rag_agent import hospital_rag_agent_executor\n",
    "\n",
    "response = hospital_rag_agent_executor.invoke(\n",
    "    {\"input\": \"What is the wait time at Wallace-Hamilton?\"}\n",
    ")\n",
    "\n",
    "\n",
    "\n",
    "\n",
    "\n",
    "\n",
    "\n",
    "\n",
    "\n",
    "response.get(\"output\")\n",
    "\n",
    "\n",
    "response = hospital_rag_agent_executor.invoke(\n",
    "    {\"input\": \"Which hospital has the shortest wait time?\"}\n",
    ")\n",
    "\n",
    "\n",
    "\n",
    "\n",
    "\n",
    "\n",
    "\n",
    "\n",
    "\n",
    "\n",
    "response.get(\"output\")"
   ]
  },
  {
   "cell_type": "code",
   "execution_count": 2,
   "metadata": {},
   "outputs": [
    {
     "name": "stdout",
     "output_type": "stream",
     "text": [
      "\n",
      "\n",
      "\u001b[1m> Entering new AgentExecutor chain...\u001b[0m\n",
      "\u001b[32;1m\u001b[1;3m\n",
      "Invoking: `Experiences` with `What have patients said about their quality of rest during their stay?`\n",
      "\n",
      "\n",
      "\u001b[0m\u001b[36;1m\u001b[1;3m{'query': 'What have patients said about their quality of rest during their stay?', 'result': \"Patients have mentioned that the quality of their rest during their stay was affected by uncomfortable beds. Miranda Frey, Crystal Johnson, and Tammy Benson DVM all noted that the uncomfortable beds made it difficult for them to get a good night's sleep at Brown-Golden, Smith, Edwards and Obrien, and Garcia Ltd hospitals, respectively. Additionally, Anthony Miller mentioned that the noise level at night was disruptive and affected his sleep at Mcneil-Ali hospital.\"}\u001b[0m\u001b[32;1m\u001b[1;3mPatients have mentioned that the quality of their rest during their stay was affected by uncomfortable beds. Miranda Frey, Crystal Johnson, and Tammy Benson DVM all noted that the uncomfortable beds made it difficult for them to get a good night's sleep at Brown-Golden, Smith, Edwards and Obrien, and Garcia Ltd hospitals, respectively. Additionally, Anthony Miller mentioned that the noise level at night was disruptive and affected his sleep at Mcneil-Ali hospital.\u001b[0m\n",
      "\n",
      "\u001b[1m> Finished chain.\u001b[0m\n"
     ]
    }
   ],
   "source": [
    "response = hospital_rag_agent_executor.invoke(\n",
    "    {\n",
    "        \"input\": (\n",
    "            \"What have patients said about their \"\n",
    "            \"quality of rest during their stay?\"\n",
    "        )\n",
    "    }\n",
    ")"
   ]
  },
  {
   "cell_type": "code",
   "execution_count": null,
   "metadata": {},
   "outputs": [],
   "source": []
  }
 ],
 "metadata": {
  "kernelspec": {
   "display_name": "venv",
   "language": "python",
   "name": "python3"
  },
  "language_info": {
   "codemirror_mode": {
    "name": "ipython",
    "version": 3
   },
   "file_extension": ".py",
   "mimetype": "text/x-python",
   "name": "python",
   "nbconvert_exporter": "python",
   "pygments_lexer": "ipython3",
   "version": "3.11.1"
  }
 },
 "nbformat": 4,
 "nbformat_minor": 2
}
